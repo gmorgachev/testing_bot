{
 "cells": [
  {
   "cell_type": "code",
   "execution_count": 1,
   "metadata": {},
   "outputs": [
    {
     "name": "stderr",
     "output_type": "stream",
     "text": [
      "C:\\Users\\gleb\\Anaconda3\\lib\\site-packages\\gensim\\utils.py:1209: UserWarning: detected Windows; aliasing chunkize to chunkize_serial\n",
      "  warnings.warn(\"detected Windows; aliasing chunkize to chunkize_serial\")\n"
     ]
    }
   ],
   "source": [
    "import sys\n",
    "import json\n",
    "from lib.testing_bot import TestingBot"
   ]
  },
  {
   "cell_type": "code",
   "execution_count": 2,
   "metadata": {},
   "outputs": [],
   "source": [
    "with open(\"./config.json\", \"r\") as f:\n",
    "    cfg = json.load(f)\n",
    "    \n",
    "bot = TestingBot(cfg)"
   ]
  },
  {
   "cell_type": "code",
   "execution_count": 3,
   "metadata": {},
   "outputs": [],
   "source": [
    "bot.start_pooling()"
   ]
  },
  {
   "cell_type": "code",
   "execution_count": 1,
   "metadata": {},
   "outputs": [],
   "source": [
    "from lib.tmp import qq"
   ]
  },
  {
   "cell_type": "code",
   "execution_count": 1,
   "metadata": {},
   "outputs": [],
   "source": [
    "from lib.wrapper import TestingBotRunner"
   ]
  },
  {
   "cell_type": "code",
   "execution_count": 21,
   "metadata": {},
   "outputs": [],
   "source": [
    "from telegram import Bot\n",
    "from telegram.ext import Updater, Dispatcher"
   ]
  },
  {
   "cell_type": "code",
   "execution_count": 26,
   "metadata": {},
   "outputs": [],
   "source": [
    "updater = Updater(token=cfg[\"token\"], request_kwargs=cfg[\"request_kwargs\"])\n",
    "updater.bot.send_message(chat_id=173674040, text=\"INIT\")"
   ]
  },
  {
   "cell_type": "code",
   "execution_count": 9,
   "metadata": {},
   "outputs": [],
   "source": [
    "def f():\n",
    "    return 1"
   ]
  },
  {
   "cell_type": "code",
   "execution_count": 11,
   "metadata": {},
   "outputs": [
    {
     "data": {
      "text/plain": [
       "'f'"
      ]
     },
     "execution_count": 11,
     "metadata": {},
     "output_type": "execute_result"
    }
   ],
   "source": [
    "f.__name__"
   ]
  },
  {
   "cell_type": "code",
   "execution_count": 1,
   "metadata": {},
   "outputs": [
    {
     "ename": "NameError",
     "evalue": "name 'self' is not defined",
     "output_type": "error",
     "traceback": [
      "\u001b[1;31m---------------------------------------------------------------------------\u001b[0m",
      "\u001b[1;31mNameError\u001b[0m                                 Traceback (most recent call last)",
      "\u001b[1;32m<ipython-input-1-3958317643b5>\u001b[0m in \u001b[0;36m<module>\u001b[1;34m()\u001b[0m\n\u001b[1;32m----> 1\u001b[1;33m \u001b[0mself\u001b[0m\u001b[1;33m.\u001b[0m\u001b[0mparams\u001b[0m\u001b[1;33m[\u001b[0m\u001b[1;34m\"valid_size\"\u001b[0m\u001b[1;33m]\u001b[0m\u001b[1;33m\u001b[0m\u001b[0m\n\u001b[0m",
      "\u001b[1;31mNameError\u001b[0m: name 'self' is not defined"
     ]
    }
   ],
   "source": [
    "self.params[\"valid_size\"]"
   ]
  },
  {
   "cell_type": "code",
   "execution_count": 2,
   "metadata": {},
   "outputs": [
    {
     "name": "stderr",
     "output_type": "stream",
     "text": [
      "C:\\Users\\gleb\\Anaconda3\\lib\\site-packages\\gensim\\utils.py:1209: UserWarning: detected Windows; aliasing chunkize to chunkize_serial\n",
      "  warnings.warn(\"detected Windows; aliasing chunkize to chunkize_serial\")\n"
     ]
    }
   ],
   "source": [
    "import lib.candidates"
   ]
  },
  {
   "cell_type": "code",
   "execution_count": 19,
   "metadata": {},
   "outputs": [],
   "source": [
    "import sys, inspect\n",
    "import lib.candidates\n",
    "l = []\n",
    "for name, obj in inspect.getmembers(sys.modules[lib.candidates.__name__]):\n",
    "    if inspect.isclass(obj) and issubclass(obj, lib.candidates.TestingBase):\n",
    "        l.append(obj())"
   ]
  },
  {
   "cell_type": "code",
   "execution_count": 3,
   "metadata": {},
   "outputs": [],
   "source": [
    "import sys\n",
    "import telegram\n",
    "import logging\n",
    "import string, logging\n",
    "import threading\n",
    "import json\n",
    "import time\n",
    "\n",
    "from time import sleep\n",
    "from telegram.ext import Updater, Dispatcher\n",
    "from telegram.ext import MessageHandler, Filters\n",
    "from telegram.ext import CommandHandler\n",
    "from telegram.ext import CallbackQueryHandler\n",
    "from telegram import InlineKeyboardButton, InlineKeyboardMarkup, ReplyKeyboardMarkup, ReplyKeyboardRemove\n",
    "from telegram import utils\n",
    "\n",
    "# Import test project\n",
    "# Bad way\n",
    "# TODO: to do package setup for NNCA\n",
    "sys.path.insert(0, \"../CSharpCodeChecker/\")\n",
    "from NNCA.lib.model import Model\n",
    "\n",
    "\n",
    "with open(\"./config.json\", \"r\") as f:\n",
    "    cfg = json.load(f)\n",
    "\n",
    "# Formatter for logger\n",
    "formatter = logging.Formatter('%(asctime)s %(levelname)s %(message)s')\n",
    "\n",
    "def setup_logger(name, log_file, level=logging.INFO):\n",
    "    \n",
    "    handler = logging.FileHandler(log_file)        \n",
    "    handler.setFormatter(formatter)\n",
    "\n",
    "    logger = logging.getLogger(name)\n",
    "    logger.setLevel(level)\n",
    "    logger.addHandler(handler)\n",
    "\n",
    "    return logger\n",
    "\n",
    "class TelegramBotHandler(logging.handlers.BufferingHandler):\n",
    "    def __init__(self, bot, chat_id, capacity):\n",
    "        logging.handlers.BufferingHandler.__init__(self, 1)\n",
    "        self.chat_id = chat_id\n",
    "        self.bot = bot\n",
    "        self.setFormatter(formatter)\n",
    "\n",
    "    def flush(self):\n",
    "        if len(self.buffer) > 0:\n",
    "            try:\n",
    "                msg = \"\"\n",
    "                for record in self.buffer:\n",
    "                    s = self.format(record)\n",
    "                    msg = msg + s + \"\\r\\n\"\n",
    "                self.bot.send_message(chat_id=self.chat_id, text=msg)\n",
    "            except:\n",
    "                self.handleError(None)\n",
    "            super(TelegramBotHandler, self).flush()\n",
    "\n",
    "            \n",
    "class TestingBot1:\n",
    "    def __init__(self, cfg):\n",
    "        self.default_params = cfg[\"params\"]\n",
    "        self.my_chat_id = cfg[\"chat_id\"]\n",
    "        self.bot = telegram.Bot(token=cfg[\"token\"], )\n",
    "        self.updater = Updater(token=cfg[\"token\"], request_kwargs=cfg[\"request_kwargs\"])\n",
    "        self.dispatcher = self.updater.dispatcher\n",
    "\n",
    "        self.dispatcher.add_handler(CommandHandler('start', self.start, pass_user_data=True))\n",
    "        self.dispatcher.add_handler(CommandHandler('run', self.run_function, pass_user_data=True, pass_args=True))\n",
    "        self.dispatcher.add_handler(CommandHandler('params', self.params_function, pass_user_data=True))\n",
    "        # self.dispatcher.add_handler(CommandHandler('stop', self.stop, pass_user_data=True))\n",
    "        self.dispatcher.add_handler(MessageHandler(Filters.text, self.text_handler, pass_user_data=True))\n",
    "        self.dispatcher.add_handler(CallbackQueryHandler(self.button, pass_user_data=True))\n",
    "\n",
    "        self.logger = setup_logger('first_logger', 'logfile.log')\n",
    "        self.logger.info('Init log')\n",
    "        handler = TelegramBotHandler(self.updater.bot, self.my_chat_id, 10)\n",
    "        # handler.setFormatter(formatter)\n",
    "        self.logger.addHandler(handler)\n",
    "\n",
    "    def start_pooling(self):\n",
    "        self.updater.start_polling()\n",
    "\n",
    "    @staticmethod\n",
    "    def foo(params, logger, train_args):\n",
    "        try:\n",
    "            model = Model(params=params, logger=logger)\n",
    "            valid = model.train(*[int(arg) for arg in train_args])\n",
    "\n",
    "            return model\n",
    "        except:\n",
    "            logging.error(\"Model creation error\")\n",
    "            raise\n",
    "\n",
    "    def start(self, bot, update, user_data):\n",
    "        bot.send_message(chat_id=update.message.chat_id, text=\"I'm a bot, please talk to me\")\n",
    "        user_data[\"params\"] = dict()\n",
    "        user_data[\"wait_for\"] = None\n",
    "        for key in self.default_params:\n",
    "            user_data[\"params\"][key] = self.default_params[key]\n",
    "\n",
    "    def params_function(self, bot, update, user_data):\n",
    "        button_list = []\n",
    "        for key in user_data[\"params\"]:\n",
    "            button_list.append(InlineKeyboardButton(key + \" \" + str(user_data[\"params\"][key]), callback_data=key))\n",
    "        reply_markup = InlineKeyboardMarkup(self.build_menu(button_list, n_cols=2))     \n",
    "        bot.send_message(chat_id=update.message.chat_id, text=\"Choose parameter\", reply_markup=reply_markup)\n",
    "\n",
    "    def run_function(self, bot, update, user_data, args):\n",
    "        try:\n",
    "            t1 = threading.Thread(target=TestingBot.foo, args=(user_data[\"params\"], self.logger, args))\n",
    "            user_data[\"model_thread\"] = t1\n",
    "            t1.start()\n",
    "        except:\n",
    "            logging.error(\"HZ\")\n",
    "\n",
    "            raise\n",
    "\n",
    "    # def stop(self, bot, update, user_data):\n",
    "    #     try:\n",
    "    #         user_data[\"model_thread\"].stop()\n",
    "    #         user_data[\"model_thread\"].join()\n",
    "    #     except KeyError:\n",
    "    #         self.logger.warning(\"Key error\")\n",
    "    #         raise\n",
    "    #     except:\n",
    "    #         self.logger.error(\"Something strange in stop\")\n",
    "    #         raise\n",
    "        \n",
    "    def text_handler(self, bot, update, user_data):\n",
    "        try:\n",
    "            wait_for = user_data[\"wait_for\"]\n",
    "            if wait_for not in user_data[\"params\"]:\n",
    "                raise KeyError\n",
    "            user_data[\"params\"][wait_for] = type(user_data[\"params\"][wait_for])(update.message.text)\n",
    "            update.message.reply_text(text=\"New {0} is {1}\".format(wait_for, user_data[\"params\"][wait_for]))\n",
    "\n",
    "        except KeyError:\n",
    "            update.message.reply_text('Not found')\n",
    "\n",
    "\n",
    "    def button(self, bot, update, user_data):\n",
    "        query = update.callback_query\n",
    "        user_data[\"wait_for\"] = query.data\n",
    "        bot.edit_message_text(text=\"Wait for {0}\".format(query.data), \n",
    "                              chat_id=query.message.chat_id,\n",
    "                              message_id=query.message.message_id)\n",
    "\n",
    "    def build_menu(self, buttons, n_cols, header_buttons=None, footer_buttons=None):\n",
    "        menu = [buttons[i:i + n_cols] for i in range(0, len(buttons), n_cols)]\n",
    "        if header_buttons:\n",
    "            menu.insert(0, header_buttons)\n",
    "        if footer_buttons:\n",
    "            menu.append(footer_buttons)\n",
    "        return menu"
   ]
  },
  {
   "cell_type": "code",
   "execution_count": 4,
   "metadata": {},
   "outputs": [],
   "source": [
    "t = TestingBot1(cfg)"
   ]
  },
  {
   "cell_type": "code",
   "execution_count": 5,
   "metadata": {},
   "outputs": [],
   "source": [
    "t.start_pooling()"
   ]
  },
  {
   "cell_type": "code",
   "execution_count": null,
   "metadata": {},
   "outputs": [],
   "source": []
  }
 ],
 "metadata": {
  "kernelspec": {
   "display_name": "Python 3",
   "language": "python",
   "name": "python3"
  },
  "language_info": {
   "codemirror_mode": {
    "name": "ipython",
    "version": 3
   },
   "file_extension": ".py",
   "mimetype": "text/x-python",
   "name": "python",
   "nbconvert_exporter": "python",
   "pygments_lexer": "ipython3",
   "version": "3.6.6"
  }
 },
 "nbformat": 4,
 "nbformat_minor": 2
}
